{
  "nbformat": 4,
  "nbformat_minor": 0,
  "metadata": {
    "colab": {
      "provenance": [],
      "authorship_tag": "ABX9TyOx68I7+26iNMtQTXgsCPET",
      "include_colab_link": true
    },
    "kernelspec": {
      "name": "python3",
      "display_name": "Python 3"
    },
    "language_info": {
      "name": "python"
    }
  },
  "cells": [
    {
      "cell_type": "markdown",
      "metadata": {
        "id": "view-in-github",
        "colab_type": "text"
      },
      "source": [
        "<a href=\"https://colab.research.google.com/github/Rehman047/Next-Word-Predictor-using-LSTM/blob/main/Next_Word_Predictor.ipynb\" target=\"_parent\"><img src=\"https://colab.research.google.com/assets/colab-badge.svg\" alt=\"Open In Colab\"/></a>"
      ]
    },
    {
      "cell_type": "code",
      "execution_count": 1,
      "metadata": {
        "colab": {
          "base_uri": "https://localhost:8080/"
        },
        "id": "l6gzpFQDPmz-",
        "outputId": "69efc3df-9e92-4ae3-cbb0-5764db1c4a31"
      },
      "outputs": [
        {
          "output_type": "stream",
          "name": "stdout",
          "text": [
            "Requirement already satisfied: nltk in /usr/local/lib/python3.12/dist-packages (3.9.1)\n",
            "Requirement already satisfied: click in /usr/local/lib/python3.12/dist-packages (from nltk) (8.2.1)\n",
            "Requirement already satisfied: joblib in /usr/local/lib/python3.12/dist-packages (from nltk) (1.5.1)\n",
            "Requirement already satisfied: regex>=2021.8.3 in /usr/local/lib/python3.12/dist-packages (from nltk) (2024.11.6)\n",
            "Requirement already satisfied: tqdm in /usr/local/lib/python3.12/dist-packages (from nltk) (4.67.1)\n"
          ]
        }
      ],
      "source": [
        "!pip install nltk"
      ]
    },
    {
      "cell_type": "code",
      "source": [
        "import torch\n",
        "import torch.nn as nn\n",
        "import torch.optim as optim\n",
        "from collections import Counter\n",
        "import numpy as np\n",
        "from torch.utils.data import Dataset\n",
        "from torch.utils.data import DataLoader\n",
        "import nltk\n",
        "from nltk.tokenize import word_tokenize"
      ],
      "metadata": {
        "id": "RmmPRN5rSOAc"
      },
      "execution_count": 5,
      "outputs": []
    },
    {
      "cell_type": "code",
      "source": [
        "nltk.download('punkt')\n",
        "nltk.download('punkt_tab')"
      ],
      "metadata": {
        "colab": {
          "base_uri": "https://localhost:8080/"
        },
        "id": "SVC1okLyUFpK",
        "outputId": "3ff9ea17-2b53-4d97-fe9d-578e32467f7b"
      },
      "execution_count": 7,
      "outputs": [
        {
          "output_type": "stream",
          "name": "stderr",
          "text": [
            "[nltk_data] Downloading package punkt to /root/nltk_data...\n",
            "[nltk_data]   Unzipping tokenizers/punkt.zip.\n",
            "[nltk_data] Downloading package punkt_tab to /root/nltk_data...\n",
            "[nltk_data]   Unzipping tokenizers/punkt_tab.zip.\n"
          ]
        },
        {
          "output_type": "execute_result",
          "data": {
            "text/plain": [
              "True"
            ]
          },
          "metadata": {},
          "execution_count": 7
        }
      ]
    },
    {
      "cell_type": "code",
      "source": [
        "document = \"\"\"\n",
        "Osamu Dazai is one of the central figures in Bungou Stray Dogs and also one of the most enigmatic.\n",
        "His story spans two very different lives: one as a cold, brilliant executive in the Port Mafia, and another as an eccentric yet cunning member of the Armed Detective Agency.\n",
        "Dazai’s life is a constant dance between darkness and light, despair and hope, death and survival.\n",
        "His journey explores questions of morality, purpose, and human connection.\n",
        "\n",
        "Early Life and Port Mafia Years\n",
        "Dazai joined the Port Mafia at an unusually young age.\n",
        "Though much of his early life remains shrouded in mystery, it is clear that he carried an overwhelming sense of emptiness and nihilism from a very young age.\n",
        "He displayed suicidal tendencies, often attempting elaborate ways to end his life, but somehow always surviving or losing interest at the last moment.\n",
        "Ōgai Mori, the ruthless but intelligent boss of the Port Mafia, recognized Dazai’s genius and emotional detachment, seeing in him a potential heir.\n",
        "Under Mori’s guidance, Dazai rose quickly through the ranks, eventually becoming one of the youngest executives in the mafia’s history.\n",
        "\n",
        "During these years, Dazai formed a partnership with Chūya Nakahara.\n",
        "Together, they became known as \"Twin Dark,\" a legendary duo feared across the underworld.\n",
        "Their personalities clashed constantly: Chūya was hot-headed, passionate, and honorable in his own way, while Dazai was calculating, manipulative, and infuriatingly carefree.\n",
        "Despite their arguments and sarcastic exchanges, their combined strength made them nearly unstoppable.\n",
        "One of their most notable missions involved the Arahabaki incident, which tied into Chūya’s mysterious powers and tested their uneasy partnership.\n",
        "\n",
        "But Dazai’s mafia life was not without meaningful connections.\n",
        "His most significant bond was with Sakunosuke Oda, known as Odasaku.\n",
        "Odasaku was different from the rest of the Port Mafia.\n",
        "He despised unnecessary killing and dreamed of retiring to live quietly as a novelist.\n",
        "Dazai, who had always seen life as meaningless, was drawn to Odasaku’s humanity and ideals.\n",
        "Odasaku’s philosophy—that life should be used to protect and save others rather than destroy—deeply influenced Dazai.\n",
        "This bond ended tragically when Odasaku was killed during a violent conflict with another organization.\n",
        "In his final moments, he urged Dazai to leave the mafia and dedicate himself to saving people.\n",
        "This moment became the turning point of Dazai’s life, leading him away from the mafia’s bloodshed.\n",
        "\n",
        "Joining the Armed Detective Agency\n",
        "After leaving the Port Mafia, Dazai wandered until he crossed paths with Yukichi Fukuzawa, the leader of the Armed Detective Agency.\n",
        "Impressed by Dazai’s potential, Fukuzawa welcomed him into the organization.\n",
        "The ADA’s mission—to use supernatural abilities to protect the people of Yokohama—aligned with Odasaku’s dying wish, giving Dazai a new reason to live, or at least to keep moving forward.\n",
        "\n",
        "At the ADA, Dazai’s personality revealed itself in unusual ways.\n",
        "On the surface, he seemed like a clown: constantly making jokes about suicide, flirting with death, or appearing lazy and unmotivated.\n",
        "But beneath that façade lay one of the sharpest minds in the series.\n",
        "Dazai became a master strategist, often solving cases not through brute force, but through careful planning, manipulation, and psychological insight.\n",
        "His ability, \"No Longer Human,\" allows him to nullify any other ability upon touch, making him invaluable in battles against ability users.\n",
        "\n",
        "Dazai also took on a mentorship role, most notably with Atsushi Nakajima.\n",
        "Atsushi, an orphan who transforms into a white tiger, initially struggled with self-worth and fear of rejection.\n",
        "Dazai, in his teasing yet oddly supportive way, guided Atsushi to see his own value and gain confidence.\n",
        "Their relationship mirrors the one Dazai once shared with Odasaku, suggesting that Dazai saw in Atsushi someone who could be saved from despair the way he himself could not.\n",
        "\n",
        "Major Conflicts and Arcs\n",
        "As a member of the ADA, Dazai was constantly drawn back into conflict with his former life.\n",
        "His knowledge of the Port Mafia’s inner workings gave the ADA an edge in many confrontations, but it also created tension with old acquaintances who questioned his loyalty.\n",
        "\n",
        "The Guild Arc:\n",
        "When the American organization known as the Guild, led by Francis Scott Key Fitzgerald, invaded Yokohama, Dazai played a critical role in countering them.\n",
        "He anticipated moves, manipulated outcomes, and turned desperate situations into victories for the ADA.\n",
        "While others fought physically, Dazai engaged in a battle of wits and strategy, proving that his mind was his greatest weapon.\n",
        "\n",
        "The Cannibalism Arc:\n",
        "Later, a crisis orchestrated by the mysterious Fyodor Dostoevsky forced the Port Mafia and the ADA into an uneasy truce.\n",
        "The \"Cannibalism\" plan set the two organizations against one another in a deadly trap.\n",
        "Dazai, with his uncanny ability to read people, steered the situation carefully, ensuring that the ADA survived and minimizing unnecessary bloodshed.\n",
        "\n",
        "Dazai vs. Fyodor Dostoevsky:\n",
        "Fyodor Dostoevsky, a chillingly intelligent man determined to eradicate all ability users, became Dazai’s greatest rival.\n",
        "Unlike other opponents, Fyodor matched Dazai in cunning and strategy.\n",
        "Their clashes became battles of intellect and ideology rather than simple physical fights.\n",
        "Where Dazai manipulates for survival and protection, Fyodor manipulates for destruction.\n",
        "The rivalry between these two is central to the later arcs of the story.\n",
        "\n",
        "Decay of the Angel Arc:\n",
        "Dazai’s most dangerous trial came when he was imprisoned alongside Fyodor in Meursault, a supposedly inescapable prison.\n",
        "Even here, Dazai maintained control over the situation, setting in motion intricate schemes to ensure his allies’ survival.\n",
        "While trapped in this deadly chess game with Fyodor, Dazai showcased his brilliance as a strategist, demonstrating that his true battlefield is the mind.\n",
        "\n",
        "Themes and Character Psychology\n",
        "At the heart of Dazai’s story lies a constant struggle between death and life.\n",
        "His endless suicide jokes are not simply humor but reflect his ongoing battle with despair.\n",
        "He seeks death but simultaneously finds reasons to live, usually through his connections with others.\n",
        "\n",
        "His contradictions make him fascinating:\n",
        "- A joker, yet deeply depressed.\n",
        "- A killer, yet now a savior.\n",
        "- A manipulator, yet one who desires genuine connection.\n",
        "\n",
        "His relationships define him:\n",
        "- Odasaku gave him purpose and direction.\n",
        "- Chūya remains both rival and comrade, a reminder of his mafia past.\n",
        "- Atsushi represents hope for the future and redemption.\n",
        "- Fyodor is his intellectual equal, forcing Dazai to confront his own darkness.\n",
        "\n",
        "Conclusion\n",
        "Osamu Dazai’s story in Bungou Stray Dogs is not just about a man switching sides from villain to hero.\n",
        "It is about a person who has stared into the void of meaninglessness and continues to struggle with it daily.\n",
        "His past in the Port Mafia, his mentorship in the ADA, his rivalries, and his complex psychology all contribute to making him one of the most compelling characters in the series.\n",
        "Through Dazai, Bungou Stray Dogs explores profound questions: Can someone truly change?\n",
        "Is redemption possible?\n",
        "What gives life meaning in the face of despair?\n",
        "\n",
        "Above all, Dazai embodies transformation.\n",
        "From the feared executive who bathed in blood, to the detective who saves lives in his own twisted way, his story remains one of survival, irony, and the search for a reason to keep living.\n",
        "\"\"\"\n"
      ],
      "metadata": {
        "id": "TdIFnnOvSwBm"
      },
      "execution_count": 15,
      "outputs": []
    },
    {
      "cell_type": "code",
      "source": [
        "tokens=word_tokenize(document.lower())"
      ],
      "metadata": {
        "id": "jTm0C1u4T8NR"
      },
      "execution_count": 16,
      "outputs": []
    },
    {
      "cell_type": "code",
      "source": [
        "vocab={'UNV':0}\n",
        "for token in tokens:\n",
        "  if token in vocab:\n",
        "    continue\n",
        "  vocab[token]=len(vocab)\n"
      ],
      "metadata": {
        "id": "TTx7AaWIVIm4"
      },
      "execution_count": 17,
      "outputs": []
    },
    {
      "cell_type": "code",
      "source": [
        "sentences=document.split('\\n')"
      ],
      "metadata": {
        "id": "fz8ZupSoVhrl"
      },
      "execution_count": 18,
      "outputs": []
    },
    {
      "cell_type": "code",
      "source": [
        "def text_to_indices(text,vocab):\n",
        "  indices=[]\n",
        "  for token in word_tokenize(text):\n",
        "    if token not in vocab:\n",
        "      token='UNV'\n",
        "    indices.append(vocab[token])\n",
        "  return indices"
      ],
      "metadata": {
        "id": "QYoGKXxIVlDH"
      },
      "execution_count": 20,
      "outputs": []
    },
    {
      "cell_type": "code",
      "source": [
        "all_tokens=[]\n",
        "for sentence in sentences:\n",
        "  all_tokens.append(text_to_indices(sentence.lower(),vocab))"
      ],
      "metadata": {
        "id": "QGs-4O7IX_bX"
      },
      "execution_count": 21,
      "outputs": []
    },
    {
      "cell_type": "code",
      "source": [
        "all_tokens[1]"
      ],
      "metadata": {
        "colab": {
          "base_uri": "https://localhost:8080/"
        },
        "id": "lZuUH75QYeCG",
        "outputId": "bc3dbb99-0f98-40a1-e0ba-9165c1199403"
      },
      "execution_count": 25,
      "outputs": [
        {
          "output_type": "execute_result",
          "data": {
            "text/plain": [
              "[1, 2, 3, 4, 5, 6, 7, 8, 9, 10, 11, 12, 13, 14, 4, 5, 6, 15, 16, 17]"
            ]
          },
          "metadata": {},
          "execution_count": 25
        }
      ]
    },
    {
      "cell_type": "code",
      "source": [
        "len(all_tokens)"
      ],
      "metadata": {
        "colab": {
          "base_uri": "https://localhost:8080/"
        },
        "id": "DWt2PxDDYiOy",
        "outputId": "7af1e31f-5d3c-47f7-946a-e4a96f6b1ab6"
      },
      "execution_count": 26,
      "outputs": [
        {
          "output_type": "execute_result",
          "data": {
            "text/plain": [
              "98"
            ]
          },
          "metadata": {},
          "execution_count": 26
        }
      ]
    },
    {
      "cell_type": "code",
      "source": [
        "train_tokens=[]\n",
        "for senten in all_tokens:\n",
        "  for i in range(1,len(senten)):\n",
        "    train_tokens.append(senten[:i+1])"
      ],
      "metadata": {
        "id": "czJLQE2VZR6A"
      },
      "execution_count": 29,
      "outputs": []
    },
    {
      "cell_type": "code",
      "source": [
        "len(train_tokens)"
      ],
      "metadata": {
        "colab": {
          "base_uri": "https://localhost:8080/"
        },
        "id": "CEtQeAHQaP78",
        "outputId": "cc0dc822-dcb7-447d-ae43-4b5461860ea0"
      },
      "execution_count": 30,
      "outputs": [
        {
          "output_type": "execute_result",
          "data": {
            "text/plain": [
              "1305"
            ]
          },
          "metadata": {},
          "execution_count": 30
        }
      ]
    },
    {
      "cell_type": "code",
      "source": [
        "len_list=[]\n",
        "for senten in all_tokens:\n",
        "  len_list.append(len(senten))"
      ],
      "metadata": {
        "id": "2UHz_lO8aRwZ"
      },
      "execution_count": 31,
      "outputs": []
    },
    {
      "cell_type": "code",
      "source": [
        "final_tokens=[]\n",
        "for senten in train_tokens:\n",
        "  final_tokens.append([0]*(max(len_list)-len(senten)) + senten)"
      ],
      "metadata": {
        "id": "AbhUnPsFcHHP"
      },
      "execution_count": 32,
      "outputs": []
    },
    {
      "cell_type": "code",
      "source": [
        "len(final_tokens[1000])"
      ],
      "metadata": {
        "colab": {
          "base_uri": "https://localhost:8080/"
        },
        "id": "Skic4ymncryZ",
        "outputId": "3e1fe672-3c78-4d40-bc8e-657a02fb7863"
      },
      "execution_count": 35,
      "outputs": [
        {
          "output_type": "execute_result",
          "data": {
            "text/plain": [
              "40"
            ]
          },
          "metadata": {},
          "execution_count": 35
        }
      ]
    },
    {
      "cell_type": "code",
      "source": [
        "final_tokens=torch.tensor(final_tokens,dtype=torch.long)"
      ],
      "metadata": {
        "id": "Yg_I53gocvV4"
      },
      "execution_count": 36,
      "outputs": []
    },
    {
      "cell_type": "code",
      "source": [
        "final_tokens.shape"
      ],
      "metadata": {
        "colab": {
          "base_uri": "https://localhost:8080/"
        },
        "id": "Xf6V_r4rdNac",
        "outputId": "24a2bb48-ab78-4976-c32b-a596b9e2345f"
      },
      "execution_count": 37,
      "outputs": [
        {
          "output_type": "execute_result",
          "data": {
            "text/plain": [
              "torch.Size([1305, 40])"
            ]
          },
          "metadata": {},
          "execution_count": 37
        }
      ]
    },
    {
      "cell_type": "code",
      "source": [
        "x=final_tokens[:,:-1]\n",
        "y=final_tokens[:,-1]"
      ],
      "metadata": {
        "id": "FGKRsr6SdUOV"
      },
      "execution_count": 38,
      "outputs": []
    },
    {
      "cell_type": "code",
      "source": [
        "class Data(Dataset):\n",
        "  def __init__(self,x,y):\n",
        "    self.x=x\n",
        "    self.y=y\n",
        "  def __len__(self):\n",
        "    return len(self.x)\n",
        "  def __getitem__(self,index):\n",
        "    return self.x[index],self.y[index]"
      ],
      "metadata": {
        "id": "CBkwxcu9eSlB"
      },
      "execution_count": 39,
      "outputs": []
    },
    {
      "cell_type": "code",
      "source": [
        "data=Data(x,y)"
      ],
      "metadata": {
        "id": "qDzJSiZ6rc09"
      },
      "execution_count": 42,
      "outputs": []
    },
    {
      "cell_type": "code",
      "source": [
        "loader=DataLoader(data,batch_size=32,shuffle=True)"
      ],
      "metadata": {
        "id": "HtVs-kjIrhgP"
      },
      "execution_count": 43,
      "outputs": []
    },
    {
      "cell_type": "code",
      "source": [
        "for x,y in loader:\n",
        "  print(x,y)"
      ],
      "metadata": {
        "id": "aYWOxYmksXQP",
        "outputId": "d9090a1f-b44d-4467-96c0-c626d9cde384",
        "colab": {
          "base_uri": "https://localhost:8080/"
        }
      },
      "execution_count": 44,
      "outputs": [
        {
          "output_type": "stream",
          "name": "stdout",
          "text": [
            "tensor([[  0,   0,   0,  ...,  29,   2, 128],\n",
            "        [  0,   0,   0,  ..., 253,  29,  18],\n",
            "        [  0,   0,   0,  ..., 372,  29, 373],\n",
            "        ...,\n",
            "        [  0,   0,   0,  ...,  29,  10,  11],\n",
            "        [  0,   0,   0,  ..., 276,  25, 149],\n",
            "        [  0,   0,   0,  ..., 243, 244,  77]]) tensor([ 27, 526, 374,  32, 324,  44,   2, 200, 496, 192, 103,  29, 471,  29,\n",
            "         29,  18, 402,   6,  29,  29,  31,  56, 215,   9,  11,  18, 155,  94,\n",
            "         53,  12, 277, 245])\n",
            "tensor([[  0,   0,  83,  ...,  27, 263,  91],\n",
            "        [  0,   0,   0,  ..., 483, 484,  91],\n",
            "        [  0,   0,   0,  ...,  18, 302,  29],\n",
            "        ...,\n",
            "        [  0,   0,   0,  ..., 439,   5,   6],\n",
            "        [  0,   0,   0,  ...,  29,  87,  88],\n",
            "        [  0,   0,   0,  ..., 157,  29, 158]]) tensor([265, 198, 137,  42,  27,  43,  41,  29,  49,  27, 226, 338,  51,  29,\n",
            "          9,  86, 445, 144, 544,  17,   7, 365, 291, 187,   6,  27, 179,   5,\n",
            "        249, 440,  89,  29])\n",
            "tensor([[  0,   0,   0,  ...,  21, 407, 313],\n",
            "        [  0,   0,   0,  ...,  74,   3,  75],\n",
            "        [  0,   0,   0,  ..., 434,   2, 435],\n",
            "        ...,\n",
            "        [  0,   0,   0,  ..., 549, 386,  27],\n",
            "        [  0,   0,   0,  ...,  64,   6,  32],\n",
            "        [  0,   0,   0,  ...,   5,   6,  32]]) tensor([  4,  76, 386, 168,  40,   2, 414, 202, 260,  19,  33,   9, 212, 415,\n",
            "         27,  17, 424,  62,  91,  35, 135, 171,  27, 101,  91,  29,  29,  29,\n",
            "         44, 263,  33,  33])\n",
            "tensor([[  0,   0,   0,  ...,   5,   6,  32],\n",
            "        [  0,   0,   0,  ...,  93,   2,  43],\n",
            "        [  0,   0,   0,  ..., 231, 232,  91],\n",
            "        ...,\n",
            "        [  0,   0,   0,  ...,  44, 179, 180],\n",
            "        [  0,   0,   0,  ...,   5,   6, 123],\n",
            "        [  0,   0,   0,  ..., 277, 112,   4]]) tensor([ 33,  44, 233,  21,  44, 150, 130,  25, 290,   6,  29, 379, 167,  37,\n",
            "        491, 162,   6, 430,  79,  43,  38,  29,  17,  35, 178,   9, 125, 268,\n",
            "          5,  13, 124,   5])\n",
            "tensor([[  0,   0,   0,  ..., 206,  13, 207],\n",
            "        [  0,   0,   0,  ...,   9,  38,  13],\n",
            "        [  0,   0,   0,  ...,   0, 126, 127],\n",
            "        ...,\n",
            "        [  0,   0,   0,  ...,   6, 155,  77],\n",
            "        [  0,   0,   0,  ..., 246, 130, 247],\n",
            "        [  0,   0,   0,  ..., 461,   9, 219]]) tensor([ 17, 392,  63,   6,  24,   9, 279, 545, 216,  13,   2,   2,  58,  12,\n",
            "          9,  45,  88, 539, 518,  29,  48, 452,   6,  17,  37,  29, 179, 391,\n",
            "        214, 232, 248, 408])\n",
            "tensor([[  0,   0,   0,  ...,  66,  67,  68],\n",
            "        [  0,   0,   0,  ..., 238,  83,   6],\n",
            "        [  0,   0,   0,  ...,   6, 397, 366],\n",
            "        ...,\n",
            "        [  0,   0,   0,  ...,  18, 460,  43],\n",
            "        [  0,   0,   0,  ..., 278, 476, 183],\n",
            "        [  0,   0,   0,  ..., 289,   9,   6]]) tensor([ 17,  33,  25,  29,  44,  13,  13, 419,  87,  38,   6, 322,  17,   6,\n",
            "         71, 156, 465,  13, 354, 142, 370,  54, 420,  97, 279, 340,  29,  27,\n",
            "        371,  54, 477, 290])\n",
            "tensor([[  0,   0,   0,  ...,  33,  13, 231],\n",
            "        [  0,   0,   0,  ..., 386,   6, 253],\n",
            "        [  0,   0,   0,  ...,  13,  34,  26],\n",
            "        ...,\n",
            "        [  0,   0,   0,  ...,  30,  31,   9],\n",
            "        [  0,   0,   0,  ...,  50,  29,  51],\n",
            "        [  0,   0,   0,  ...,  29, 111,   9]]) tensor([232,  17,  35,  51,  13,  91, 302,  76,  77,  91,   6, 383, 360,   5,\n",
            "         43,   6,  29,   6, 172,  13, 328,  77,  27, 388,   3,   2,  95, 131,\n",
            "         13,   6,  13, 112])\n",
            "tensor([[  0,   0,   0,  ..., 403,   6,  32],\n",
            "        [  0,   0,   0,  ..., 124,   9,   6],\n",
            "        [  0,   0,   0,  ...,   0, 489, 401],\n",
            "        ...,\n",
            "        [  0,   0,   0,  ...,  71,   4,   5],\n",
            "        [  0,   0,   0,  ...,   0,   0, 439],\n",
            "        [  0,   0,   0,  ...,   9, 377, 168]]) tensor([ 33,  33,   3, 219,  35, 136,   3, 130,  19, 341,  17, 355,  29,   6,\n",
            "          9, 417,  37, 253, 506,  29,  43,  13, 517, 227,  13,  30,  93,  29,\n",
            "          9,  54,   5,  17])\n",
            "tensor([[  0,   0,   0,  ..., 430, 215, 216],\n",
            "        [  0,   0,   0,  ...,  44,  33,  45],\n",
            "        [  0,   0,   0,  ...,   0,   0, 156],\n",
            "        ...,\n",
            "        [  0,   0,   0,  ..., 264,  91, 265],\n",
            "        [  0,   0,   0,  ...,   0,  18,  19],\n",
            "        [  0,   0,   0,  ..., 226, 136,  26]]) tensor([431, 150, 461, 216, 163,  17, 550, 105,   4,  17, 448,  18, 109, 312,\n",
            "        269, 479,   5,  65,  27,  15, 366, 255,  49,  18, 402,  34, 100, 120,\n",
            "        302, 266,  20,   6])\n",
            "tensor([[  0,   0,   0,  ...,  33,  13,   6],\n",
            "        [  0,   0,   0,  ...,   4,  26,  27],\n",
            "        [  0,   0,   0,  ...,   0, 146, 147],\n",
            "        ...,\n",
            "        [  0,   0,   0,  ...,  29,  27, 399],\n",
            "        [  0,   0,   0,  ...,  13, 300, 301],\n",
            "        [  0,   0,   0,  ...,   0, 401, 402]]) tensor([253,  28, 148, 137, 193, 528,  27, 315, 130,  13,  44, 342,  43,  13,\n",
            "         32,  13, 191,  29,  17,   2, 320,  29, 235,  29, 277,   5, 185, 521,\n",
            "        464, 400,  17,  29])\n",
            "tensor([[  0,   0,   0,  ..., 214, 215, 216],\n",
            "        [  0,   0,   0,  ...,   9,   6, 253],\n",
            "        [  0,   0,   0,  ..., 484,  91, 198],\n",
            "        ...,\n",
            "        [  0,   0,   0,  ...,  27, 141, 142],\n",
            "        [  0,   0,   0,  ...,  29,   9,  18],\n",
            "        [  0,   0,   0,  ...,  29, 277, 112]]) tensor([217,  29,  29, 183,   6,  29, 242,  10, 201,  18, 403, 409,   6, 292,\n",
            "        211,  66,   9,   9,   2,  18,  43, 112,  33, 287, 203,  33,  43,  17,\n",
            "         43, 143, 330, 311])\n",
            "tensor([[  0,   0,   0,  ...,   5,   6,  40],\n",
            "        [  0,   0,   0,  ..., 253, 178,  35],\n",
            "        [  0,   0,   0,  ...,  27, 376, 317],\n",
            "        ...,\n",
            "        [  0,   0,   0,  ...,   6, 235, 236],\n",
            "        [  0,   0,   0,  ..., 183, 184, 185],\n",
            "        [  0,   0,   0,  ..., 171, 172, 173]]) tensor([ 41, 182,   9,  29, 385,  43,  42, 364, 252,  18,  91,  34, 317,  84,\n",
            "        123, 397,   6, 459, 234,  26,  13,  17, 214, 130, 444, 329,   2, 183,\n",
            "         18,   5, 186,   6])\n",
            "tensor([[  0,   0,   0,  ...,   0,   0,  62],\n",
            "        [  0,   0,   0,  ...,   9, 112,  27],\n",
            "        [  0,   0,   0,  ..., 178,   6, 226],\n",
            "        ...,\n",
            "        [  0,   0,   0,  ..., 311,   9, 312],\n",
            "        [  0,   0,   0,  ..., 260,  29, 261],\n",
            "        [  0,   0,   0,  ...,   6, 540,   5]]) tensor([ 45, 113,  17, 314,  29,  77, 277, 168, 272,   6, 401,  17,  18,   5,\n",
            "         33,  18,  91, 104,  17, 182,   9,   7, 549, 312, 335, 373, 101, 178,\n",
            "         29, 313,   2,  51])\n",
            "tensor([[  0,   0,   0,  ..., 294, 183, 119],\n",
            "        [  0,   0,   0,  ..., 397, 140, 405],\n",
            "        [  0,   0,   0,  ..., 112,  27, 113],\n",
            "        ...,\n",
            "        [  0,   0,   0,  ...,   0, 102, 103],\n",
            "        [  0,   0,   0,  ..., 102, 103,  29],\n",
            "        [  0,   0,   0,  ..., 152,  29,  13]]) tensor([295, 406, 114, 158,  73,  15, 150, 366,  46, 135,  25, 195, 394,  26,\n",
            "         17,  27, 303, 247,  91, 206,  23,  13,  13,  15,  27, 368, 377,  13,\n",
            "         45,  29,   6, 153])\n",
            "tensor([[  0,   0,   0,  ..., 340, 341, 130],\n",
            "        [  0,   0,   0,  ...,   4,   5,   6],\n",
            "        [  0,   0,   0,  ...,  45,  29, 237],\n",
            "        ...,\n",
            "        [  0,   0,   0,  ...,   4,   5, 146],\n",
            "        [  0,   0,   0,  ...,   0,  18, 475],\n",
            "        [  0,   0,   0,  ..., 324,  29, 325]]) tensor([191,  15, 112,  18, 286,  43, 194, 221, 438,  18,  17,   6, 210, 361,\n",
            "        402,  17, 278, 474, 408,  29, 502, 372,   5, 121, 178,  57,  23, 380,\n",
            "         25,  15, 280, 326])\n",
            "tensor([[  0,   0,   0,  ..., 308, 302, 309],\n",
            "        [  0,   0,   0,  ..., 299,  29,  13],\n",
            "        [  0,   0,   0,  ...,  91, 212,  13],\n",
            "        ...,\n",
            "        [  0,   0,   0,  ...,   5, 197,  91],\n",
            "        [  0,   0,   0,  ...,  10,  11,  12],\n",
            "        [  0,   0,   0,  ...,   9, 446,  29]]) tensor([310, 300, 213,  44, 207,  17, 332,  18, 112, 289,  27, 426,  44, 349,\n",
            "        427, 453, 423, 139, 497,  29,   6, 535,   5, 508,   6, 478, 130,  43,\n",
            "         43, 198,  56,  27])\n",
            "tensor([[  0,   0,   0,  ...,  25,   4,  26],\n",
            "        [  0,   0,   0,  ..., 419, 105, 420],\n",
            "        [  0,   0,   0,  ...,   0, 469,  13],\n",
            "        ...,\n",
            "        [  0,   0,   0,  ...,  39,   5,   6],\n",
            "        [  0,   0,   0,  ...,   9, 312, 313],\n",
            "        [  0,   0,   0,  ..., 390, 130,  51]]) tensor([ 27, 421, 470,  96,  13,  44,   6, 495, 154,  44,  17, 276, 396, 390,\n",
            "          6,  18,  91, 166,  29,  13,  18,  55, 146,   9, 243,  53,  32,  91,\n",
            "         17,  40, 302,  17])\n",
            "tensor([[  0,   0,   0,  ..., 198,  29,  97],\n",
            "        [  0,   0,   0,  ...,  22,  23,  24],\n",
            "        [  0,   0,   0,  ..., 423,  29,   2],\n",
            "        ...,\n",
            "        [  0,   0,   0,  ..., 149,  25, 131],\n",
            "        [  0,   0,   0,  ...,   6, 522,   5],\n",
            "        [  0,   0,   0,  ..., 176, 177, 178]]) tensor([ 65,  25, 542,  29,  29,   3,  13,  85, 183, 147,   6,  17, 343, 273,\n",
            "        407, 150,  91,   2, 246, 449, 244,  76,   5,   6, 472,  44, 325,  59,\n",
            "         13, 150, 523, 131])\n",
            "tensor([[  0,   0,   0,  ...,   0, 398,  29],\n",
            "        [  0,   0,   0,  ..., 144,   6, 145],\n",
            "        [  0,   0,   0,  ..., 472,   5,   2],\n",
            "        ...,\n",
            "        [  0,   0,   0,  ..., 187, 188, 150],\n",
            "        [  0,   0,   0,  ..., 194, 195,  13],\n",
            "        [  0,   0,   0,  ...,  29,  74,   3]]) tensor([ 27,  17,  43,   2,  48, 435, 348,  18, 423, 511,  17, 471, 274,  29,\n",
            "        355,  76,   5, 351, 146, 482,  36, 112, 532,  90, 188, 546,  29,  41,\n",
            "        150, 130, 196,  75])\n",
            "tensor([[  0,   0,   0,  ...,  76,  18, 394],\n",
            "        [  0,   0,   0,  ..., 444, 445, 401],\n",
            "        [  0,   0,   0,  ...,   0,   0, 319],\n",
            "        ...,\n",
            "        [  0,   0,   0,  ...,  45, 150, 183],\n",
            "        [  0,   0,   0,  ..., 191,  43,  44],\n",
            "        [  0,   0,   0,  ...,  95, 203,  45]]) tensor([150,   9,  29,  97, 251,  10, 130, 393,  17, 504,  25, 149,  53,   2,\n",
            "          5, 501,  17,  44,  29,  18, 191,  76, 302, 296,  13, 378, 136, 349,\n",
            "        455, 184, 208,  26])\n",
            "tensor([[  0,   0,   0,  ..., 191,  43,  44],\n",
            "        [  0,   0,   0,  ...,   0,   0, 102],\n",
            "        [  0,   0,   0,  ...,   5,  81,  13],\n",
            "        ...,\n",
            "        [  0,   0,   0,  ..., 135,   2,  43],\n",
            "        [  0,   0,   0,  ..., 524,  91, 474],\n",
            "        [  0,   0,   0,  ..., 319,  29,  35]]) tensor([259, 103,  82,  17, 294,  65,  40, 508, 548,   9, 191,  43, 447,  32,\n",
            "         37,   6,   6,  29,  43,  99,  32, 186,   2, 473,   4, 177,  44, 369,\n",
            "          5,  44, 130, 321])\n",
            "tensor([[  0,   0,   0,  ..., 312,   5, 429],\n",
            "        [  0,   0,   0,  ..., 253,  43,  44],\n",
            "        [  0,   0,   0,  ...,   2,  43,  44],\n",
            "        ...,\n",
            "        [  0,   0,   0,  ..., 325, 326, 130],\n",
            "        [  0,   0,   0,  ..., 429,  13, 430],\n",
            "        [  0,   0,   0,  ...,   0, 434,   2]]) tensor([ 13, 254, 108,  32, 398, 344, 428, 122,   6,  29,  17, 231, 344, 390,\n",
            "         15, 140, 319,  18,  91, 154, 112,  29, 234,  77,  93,  35,  44,  26,\n",
            "        174, 327, 215, 435])\n",
            "tensor([[  0,   0,   0,  ..., 423, 302, 314],\n",
            "        [  0,   0,   0,  ...,  15, 187, 188],\n",
            "        [  0,   0,   0,  ...,  15, 318, 130],\n",
            "        ...,\n",
            "        [  0,   0,   0,  ...,   6, 143,  31],\n",
            "        [  0,   0,   0,  ...,  29, 412,   6],\n",
            "        [  0,   0,   0,  ...,  11,  12,  56]]) tensor([ 29, 150, 319,   6, 112, 170,  59,   9, 319, 253, 209, 189, 418, 224,\n",
            "         81,  24, 201,  26, 154,  91,  29, 432,  83, 475,  17, 522, 140, 493,\n",
            "          8, 201, 413, 531])\n",
            "tensor([[  0,   0,   0,  ...,  13, 436,  29],\n",
            "        [  0,   0,   0,  ...,  13, 417, 194],\n",
            "        [  0,   0,   0,  ...,  87, 293, 294],\n",
            "        ...,\n",
            "        [  0,   0,   0,  ..., 278, 279, 280],\n",
            "        [  0,   0,   0,  ...,  29,  93, 119],\n",
            "        [  0,   0,   0,  ..., 532, 344, 533]]) tensor([401, 239, 183, 515, 201,  43,  11, 205,  27, 352,  29,   5,   6, 141,\n",
            "         17,  17,   6, 155,   3,  29,  95, 105,  13,   3, 285,  29, 181,  71,\n",
            "         17,  29, 297, 534])\n",
            "tensor([[  0,   0,   0,  ..., 254, 255, 256],\n",
            "        [  0,   0,   0,  ..., 265, 266, 267],\n",
            "        [  0,   0,   0,  ...,   6, 253,  29],\n",
            "        ...,\n",
            "        [  0,   0,   0,  ...,  91,  92,  18],\n",
            "        [  0,   0,   0,  ..., 136,  26, 137],\n",
            "        [  0,   0,   0,  ..., 517,  91, 518]]) tensor([257,  17,  18,  29,  45, 236, 305, 462, 110, 301,   9,   2,   5, 178,\n",
            "        191, 150,  44,  45, 261, 433, 376,   6, 547,   6, 225, 178,  17, 201,\n",
            "        271,  45, 138,  17])\n",
            "tensor([[  0,   0,   0,  ..., 203,  45,  26],\n",
            "        [  0,   0,   0,  ..., 308, 426,  29],\n",
            "        [  0,   0,   0,  ...,  77, 229,   2],\n",
            "        ...,\n",
            "        [  0,   0,   0,  ...,  78,  35,  79],\n",
            "        [  0,   0,   0,  ..., 110,  29, 111],\n",
            "        [  0,   0,   0,  ..., 174, 175,  29]]) tensor([204, 401,  91, 164, 401, 150,  83,   6,   2,   5,  17,  25,   6, 201,\n",
            "        279, 499,   6, 516, 253,   2, 333,   4,  29,  25, 488,  29, 130, 151,\n",
            "         93,  80,   9, 176])\n",
            "tensor([[  0,   0,   0,  ...,  27,  46, 474],\n",
            "        [  0,   0,   0,  ...,   0,   0,   6],\n",
            "        [  0,   0,   0,  ...,   2,  27, 262],\n",
            "        ...,\n",
            "        [  0,   0,   0,  ...,  15, 171, 172],\n",
            "        [  0,   0,   0,  ...,  57,   5,  58],\n",
            "        [  0,   0,   0,  ..., 262, 263,  91]]) tensor([ 48, 365, 263,  29, 422,  98, 359, 136, 127, 458,  74, 386, 308, 483,\n",
            "        135,  29, 441, 135,  17, 225, 130, 130,   2,  29,   6,  13, 265, 437,\n",
            "         29, 173,  29, 198])\n",
            "tensor([[  0,   0,   0,  ..., 292,  29,  87],\n",
            "        [  0,   0,   0,  ..., 405, 406,   6],\n",
            "        [  0,   0,   0,  ..., 384, 178, 385],\n",
            "        ...,\n",
            "        [  0,   0,   0,  ...,  18,  55,  56],\n",
            "        [  0,   0,   0,  ..., 146, 338, 339],\n",
            "        [  0,   0,   0,  ..., 146, 147, 148]]) tensor([293,  21, 386, 420,  29,  91, 135,  17,  93, 375, 222,  87,  77, 514,\n",
            "         91, 429, 284, 278,  83, 331,   9,  41, 146, 540, 205, 413, 443, 292,\n",
            "        214,  57,   6, 149])\n",
            "tensor([[  0,   0,   0,  ..., 379,  29, 380],\n",
            "        [  0,   0,   0,  ...,  18, 316,   9],\n",
            "        [  0,   0,   0,  ..., 357, 358,  29],\n",
            "        ...,\n",
            "        [  0,   0,   0,  ...,   0,  26,  27],\n",
            "        [  0,   0,   0,  ..., 116,  29,   2],\n",
            "        [  0,   0,   0,  ...,   0,  77, 481]]) tensor([381,   6,  93, 130, 132, 299,   2,  32,  29, 119,   6,  25, 128, 487,\n",
            "          4, 212, 500, 460, 530,   6, 251,  29,  17, 210,  22, 111, 336,  13,\n",
            "          6,  39, 117,  53])\n",
            "tensor([[  0,   0,   0,  ...,  27, 493,  29],\n",
            "        [  0,   0,   0,  ...,  29,  30,  31],\n",
            "        [  0,   0,   0,  ...,  22,  67,  68],\n",
            "        ...,\n",
            "        [  0,   0,   0,  ...,   4, 201, 497],\n",
            "        [  0,   0,   0,  ...,  91, 198,  29],\n",
            "        [  0,   0,   0,  ..., 130, 401,  29]]) tensor([ 37,   9,  17,   6,  17, 316,  60, 474, 191, 350,  14, 262,  13,  70,\n",
            "         29,  68,  45, 366, 183, 140,  22, 226,  52,  27,   6, 178, 194,  29,\n",
            "        119, 498, 485,   2])\n",
            "tensor([[  0,   0,   0,  ...,  35, 356,   9],\n",
            "        [  0,   0,   0,  ..., 180,  13, 181],\n",
            "        [  0,   0,   0,  ...,   0, 222,   6],\n",
            "        ...,\n",
            "        [  0,   0,   0,  ...,  18, 154,  49],\n",
            "        [  0,   0,   0,  ...,  13, 503,  29],\n",
            "        [  0,   0,   0,  ...,  29, 333, 319]]) tensor([357, 146, 367,  33,   6, 226, 229, 314, 143, 411,  91,   6, 165,  45,\n",
            "        507,  17,   2,  93,  31, 106, 543,   2, 481,  27,  13, 535,   6, 446,\n",
            "         29,  17,  27,  91])\n",
            "tensor([[  0,   0,   0,  ...,  18,  62,  45],\n",
            "        [  0,   0,   0,  ...,   0,   0,   2],\n",
            "        [  0,   0,   0,  ..., 344, 533, 534],\n",
            "        ...,\n",
            "        [  0,   0,   0,  ...,  43,  44, 113],\n",
            "        [  0,   0,   0,  ...,  14,   4,   5],\n",
            "        [  0,   0,   0,  ...,  27, 504,   5]]) tensor([ 71,  29, 535, 180,  43, 304, 131, 251, 456,  44,  17, 442, 302,   6,\n",
            "        404,  17,   5,  91,  34,  17, 529,   4,  43,  17, 113, 538, 346,  12,\n",
            "          6,  29,   6,  18])\n",
            "tensor([[  0,   0,   0,  ...,   0,   2,  43],\n",
            "        [  0,   0,   0,  ...,  29,  37, 494],\n",
            "        [  0,   0,   0,  ..., 181, 146, 182],\n",
            "        ...,\n",
            "        [  0,   0,   0,  ...,   2,   3,   4],\n",
            "        [  0,   0,   0,  ...,  93, 479,  18],\n",
            "        [  0,   0,   0,  ...,  83,   6,  33]]) tensor([ 44,  27, 129, 152, 155,   4, 392, 228, 503, 264,  13, 283, 157, 486,\n",
            "        127,   2,  26,  76, 130,  77,  29,  29,  97,  61,  17,   9,  47,  17,\n",
            "        178,   5, 480,  43])\n",
            "tensor([[  0,   0,   0,  ..., 178, 225, 130],\n",
            "        [  0,   0,   0,  ..., 401,   3,  18],\n",
            "        [  0,   0,   0,  ...,  44, 254, 255],\n",
            "        ...,\n",
            "        [  0,   0,   0,  ..., 112, 238,  83],\n",
            "        [  0,   0,   0,  ..., 257,  91, 212],\n",
            "        [  0,   0,   0,  ..., 478,  93, 479]]) tensor([ 18, 509, 256, 389,  29,  64,  68,  29, 362, 313,  46, 463,  19,   4,\n",
            "        129, 145,  27, 130,   5, 339, 282,  51, 159,  63,   4,  21,  39, 353,\n",
            "         67,   6,   6,  18])\n",
            "tensor([[  0,   0,   0,  ...,  43,  44, 208],\n",
            "        [  0,   0,   0,  ...,  29,   2, 150],\n",
            "        [  0,   0,   0,  ...,   6, 440, 366],\n",
            "        ...,\n",
            "        [  0,   0,   0,  ..., 121, 122,   4],\n",
            "        [  0,   0,   0,  ..., 475, 280, 278],\n",
            "        [  0,   0,   0,  ...,  14, 359, 360]]) tensor([ 45, 149,  25, 401, 317, 197,  17,  19,  29,  27,  50,  17,  27, 134,\n",
            "        345, 316, 386, 401,  74, 116, 201,   5,  17, 230, 238, 492,  91, 337,\n",
            "         29,   5, 476, 130])\n",
            "tensor([[  0,   0,   0,  ...,   2,  43,  44],\n",
            "        [  0,   0,   0,  ..., 112,  91, 306],\n",
            "        [  0,   0,   0,  ...,   0,   0, 489],\n",
            "        ...,\n",
            "        [  0,   0,   0,  ...,   6, 253,  35],\n",
            "        [  0,   0,   0,  ...,  91, 306, 307],\n",
            "        [  0,   0,   0,  ..., 173,   6, 174]]) tensor([ 45, 307,  27,  17,  32, 490,  90,  67,  72,  33, 306,  91,   3, 223,\n",
            "         26,  29, 280,  18, 131,  54, 384,  13, 155,   9,  29, 218, 220,  17,\n",
            "         29, 356, 308, 175])\n",
            "tensor([[  0,   0,   0,  ..., 435, 386,  54],\n",
            "        [  0,   0,   0,  ...,   6, 174, 175],\n",
            "        [  0,   0,   0,  ...,   2, 452, 453],\n",
            "        ...,\n",
            "        [  0,   0,   0,  ...,  89,  90,  91],\n",
            "        [  0,   0,   0,  ...,  18,  15, 187],\n",
            "        [  0,   0,   0,  ..., 313,   4,  34]]) tensor([ 13,  29, 454, 258,   2, 201,   2, 154, 423, 345,   6, 237,  32,  91,\n",
            "        253, 107,   4, 253, 387,   2, 119, 363,  17, 253,  13,  74, 519,   5,\n",
            "        126,  92, 188,   9])\n",
            "tensor([[  0,   0,   0,  ...,   7,   8,   9],\n",
            "        [  0,   0,   0,  ...,   3,  18, 509],\n",
            "        [  0,   0,   0,  ..., 150,  23,  83],\n",
            "        ...,\n",
            "        [  0,   0,   0,  ...,   6, 398, 349],\n",
            "        [  0,   0,   0,  ...,  29,   2, 117],\n",
            "        [  0,   0,   0,  ...,  92,  18,  45]]) tensor([ 10, 510,   6, 512, 199,  42,  17, 533, 288, 334, 253, 494, 130,   9,\n",
            "         29,  29, 412, 397,  83,  19,  29, 267, 395,   2,  29, 457, 505, 270,\n",
            "        382,   5, 118,  29])\n",
            "tensor([[  0,   0,   0,  ...,  29,  13,  18],\n",
            "        [  0,   0,   0,  ..., 205,  91, 191],\n",
            "        [  0,   0,   0,  ...,   0, 156, 461],\n",
            "        ...,\n",
            "        [  0,   0,   0,  ...,   5,   6,  32],\n",
            "        [  0,   0,   0,  ...,  14, 315, 272],\n",
            "        [  0,   0,   0,  ...,  93, 119, 297]]) tensor([527,  43,   9, 416,  13,  52,  29, 466, 309,  27,  14, 394, 248,  18,\n",
            "         29,  29,  14,  13,   5,   6, 318,   5,  16,  11, 137, 399, 401, 112,\n",
            "         35,  33,  27, 298])\n",
            "tensor([[  0,   0,   0,  ..., 474, 130,  74],\n",
            "        [  0,   0,   0,  ..., 399, 400, 251],\n",
            "        [  0,   0,   0,  ...,   0,   0, 489],\n",
            "        ...,\n",
            "        [  0,   0,   0,  ...,   0,   0, 450],\n",
            "        [  0,   0,   0,  ...,  48,  53,  13],\n",
            "        [  0,   0,   0,  ...,  29, 380, 381]]) tensor([525,   6, 319,  33, 239,   3,  27, 405, 119, 358,  27, 524, 234, 395,\n",
            "          9, 323,  17, 484,   2,  91,  13, 436, 169,  60,   2, 505,  27,  29,\n",
            "        536, 451,  45,  29])\n",
            "tensor([[  0,   0,   0,   0,   0,   0,   0,   0,   0,   0,   0,   0,   0,   0,\n",
            "           0,   0,   0, 156, 461,   9, 219, 408, 462, 463, 130, 401,  29,   2,\n",
            "         464,  18, 465,  26,  27, 292,  29, 466,  76,  18, 467],\n",
            "        [  0,   0,   0,   0,   0,   0,   0,   0,   0,   0,   0,   0,   0,   0,\n",
            "           0,   0,   0,   0,   0,   0,   0,   0,   0,   0,   0,   0,   0,   0,\n",
            "           0, 191, 150,  23,  83,   6, 192,   5,   6,  32,  33],\n",
            "        [  0,   0,   0,   0,   0,   0,   0,   0,   0,   0,   0,   0,   0,   0,\n",
            "           0,   0,   0,   0,   0,   0,   0,   0,   0,   0,   0,   0,   0,   0,\n",
            "           0,   0,   0,   0,   0,   0, 222,   6, 367, 226, 136],\n",
            "        [  0,   0,   0,   0,   0,   0,   0,   0,   0,   0,   0,   0,   0,   0,\n",
            "           0,   0,   0,   0,   0,   0,   0,   0,   0,   0,   0,   0,   0,   0,\n",
            "           0,   0,   0,   0,   0, 272,   6, 273,  29,  77, 274],\n",
            "        [  0,   0,   0,   0,   0,   0,   0,   0,   0,   0,   0,   0,   0,   0,\n",
            "           0,   0,   0,   0,   0,   0,   0,   0,   0, 272,   6, 273,  29,  77,\n",
            "         274, 275,  27, 276,  25, 149, 277, 278, 279, 280,  29],\n",
            "        [  0,   0,   0,   0,   0,   0,  18,  19,  20,  21,  22,  23,  24,  25,\n",
            "           4,  26,  27,  28,  29,  30,  31,   9,   6,  32,  33,  29,  13,  34,\n",
            "          26,  35,  36,  37,  38,  39,   5,   6,  40,  41,  42],\n",
            "        [  0,   0,   0,   0,   0,   0,   0,   0,   0,   0,   0,   0,   0,   0,\n",
            "           0,   0,   0,  69,  70,   5,  18,  62,  45,  71,  72,   9,  73,  29,\n",
            "          74,   3,  75,  76,  77,  78,  35,  79,  80,   5,  81],\n",
            "        [  0,   0,   0,   0,   0,   0,   0,   0,   0,   0,   0,   0,   0,   0,\n",
            "           0,   0,   0,   0,   0,   0,   0,   0,   1,   2,  43,  44,  19,   9,\n",
            "          10,  11,  12,   3, 183, 514, 279,  27, 420, 515, 516],\n",
            "        [  0,   0,   0,   0,   0,   0,   0,   0,   0,   0,   0,   0,   0,   0,\n",
            "           0,   0,   0,   0,   0,   0,   0,   0,   0,   0,   0,   0,   0,   0,\n",
            "           0,   0,   0,   0,   0,   0,   0,   2,  29, 130,  18],\n",
            "        [  0,   0,   0,   0,   0,   0,   0,   0,   0,   0,   0,   0,   0,   0,\n",
            "           0,   0,   0,   0,   0,   0,   0,   0,   0,   0,   0,   0,   0,   0,\n",
            "          18,  55,  56,  57,   5,  58,  29,  59,  29,  13,  60],\n",
            "        [  0,   0,   0,   0,   0,   0,   0,   0,   0,   0,   0,   0,   0,   0,\n",
            "           0,   0,   0,   0,   0,   0,   0,   0,   0,   0,   0,   0,   0,   0,\n",
            "           0,   0,   0,   0,   0,   0,   0,   0,   0,   2,  43],\n",
            "        [  0,   0,   0,   0,   0,   0,   0,   0,   0,   0,   0,   0,   0,   0,\n",
            "           0,   0,   0,   0,   0,   0,   0,   0,   0,   0,   0,   0,   0,   0,\n",
            "           0,   0,   0,   0,   0,   0,   0,   0,   0, 541, 423],\n",
            "        [  0,   0,   0,   0,   0,   0,   0,   0,   0,   0,   0,   0,   0,   0,\n",
            "           0,   0,   0,   0,   0,   0,   0,   0,   0,   0,   0,   0,   0,   0,\n",
            "           0,   0,   0,   0,  18,  15, 187, 188, 150, 130, 189],\n",
            "        [  0,   0,   0,   0,   0,   0,   0,   0,   0,   0,   0,   0, 146, 147,\n",
            "         148, 149,  25, 131, 150, 151,  29, 152,  29,  13, 153,   9,  18, 154,\n",
            "         155,  29, 156,   2, 150, 157,  29, 158,  29,  13, 159],\n",
            "        [  0,   0,   0,   0,   0,   0,   0,   0,   0,   0,   0,   0,   0,   0,\n",
            "           0,   0,   0,   0,   0,   0,   0,   0,   0,   0,   0,   0,   0,   0,\n",
            "           0,   0,   0,   0,   0,   0,   0,   0,  18, 499, 500],\n",
            "        [  0,   0,   0,   0,   0,   0,   0,   0,   0,   0,   0,   0,   0,   0,\n",
            "           0,   0,   0,   0,   0,   0,   0,   0,   0,  69,  70,   5,  18,  62,\n",
            "          45,  71,  72,   9,  73,  29,  74,   3,  75,  76,  77],\n",
            "        [  0,   0,   0,   0,   0,   0,   0,   0,   0,   0,   0,   0,   0,   0,\n",
            "           0,   0,   0,   0,   0,   0, 401, 402,  29,  27, 419, 105, 420, 421,\n",
            "          91, 422, 423, 302, 314,  29, 135,   2,  43,  44, 395],\n",
            "        [  0,   0,   0,   0,   0,   0,   0,   0,   0,   0,   0,   0,   0,   0,\n",
            "           0,   0,   0,   0,   0,   0,   0,   0,   0,   0,   0,   0,   0,   0,\n",
            "           0,   0,   0,   0,   0,  74,   3, 279,  27, 519, 201],\n",
            "        [  0,   0,   0,   0,   0,   0,   0,   0,   0,   0,   0,   0,   0,   0,\n",
            "           0,   0,   0,   0,   0,   0,   0,   0,   0,   0,   0,   0,   0,   0,\n",
            "           0,   0,   0,   0,   0,   0,   0,   0,   0,   0, 398],\n",
            "        [ 83,   6, 143,  31, 201, 544,   9, 545,  29,  91,   6,  41, 201, 546,\n",
            "          24,   9,  18, 154, 547, 155,  29,  18,  19,  71,   4,   5,  54,  29,\n",
            "         548,  29,  13,   6, 549, 386,  27, 263,  91, 265, 550],\n",
            "        [  0,   0,   0,   0,   0,   0,   0,   0,   0,   0,   0,   0,   0,   0,\n",
            "           0,   0,   0,   0,   0,   0,   0,  26,  27,  39,   5,   6, 253,  29,\n",
            "           2, 150, 149, 205, 350, 178, 225, 130,  18, 351,  45],\n",
            "        [  0,   0,   0,   0,   0,   0,   0,   0,   0,   0,   0,   0,   0,   0,\n",
            "           0,   0,   0,   0, 156, 461,   9, 219, 408, 462, 463, 130, 401,  29,\n",
            "           2, 464,  18, 465,  26,  27, 292,  29, 466,  76,  18],\n",
            "        [  0,   0,   0,   0,   0,   0,   0,   0,   0,   0,   0,   0,   0,   0,\n",
            "           0,   0,   0,   0,   0,   0,   0,   0,   0,   0,   0,   0,   0,   6,\n",
            "         253,  43,  44, 254, 255, 256, 257,  91, 212,   6, 234],\n",
            "        [  0,   0,   0,   0,   0,   0,  83,   6, 143,  31, 201, 544,   9, 545,\n",
            "          29,  91,   6,  41, 201, 546,  24,   9,  18, 154, 547, 155,  29,  18,\n",
            "          19,  71,   4,   5,  54,  29, 548,  29,  13,   6, 549],\n",
            "        [  0,   0,   0,   0,   0,   0,   0,   0,   0,   0,   0,   0,   0,   0,\n",
            "           0,   0,   0,   0,   0,   0,   0,   0,   0,   0,   0,   0,   0,   0,\n",
            "           0,   0,   0,   0,   2,  43,  44,  15, 441, 442, 443]]) tensor([468,  17,  26, 275, 281,  17,  13,  83, 410,  61,  44,  29, 190, 160,\n",
            "        112,  78, 424, 520,  29,  17,  17, 467,   5, 386, 222])\n"
          ]
        }
      ]
    },
    {
      "cell_type": "code",
      "source": [],
      "metadata": {
        "id": "VDY4at-asa_z"
      },
      "execution_count": null,
      "outputs": []
    }
  ]
}
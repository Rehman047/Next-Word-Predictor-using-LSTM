{
  "nbformat": 4,
  "nbformat_minor": 0,
  "metadata": {
    "colab": {
      "provenance": [],
      "gpuType": "T4",
      "include_colab_link": true
    },
    "kernelspec": {
      "name": "python3",
      "display_name": "Python 3"
    },
    "language_info": {
      "name": "python"
    },
    "accelerator": "GPU"
  },
  "cells": [
    {
      "cell_type": "markdown",
      "metadata": {
        "id": "view-in-github",
        "colab_type": "text"
      },
      "source": [
        "<a href=\"https://colab.research.google.com/github/Rehman047/Next-Word-Predictor-using-LSTM/blob/main/Next_Word_Predictor.ipynb\" target=\"_parent\"><img src=\"https://colab.research.google.com/assets/colab-badge.svg\" alt=\"Open In Colab\"/></a>"
      ]
    },
    {
      "cell_type": "code",
      "execution_count": 1,
      "metadata": {
        "colab": {
          "base_uri": "https://localhost:8080/"
        },
        "id": "l6gzpFQDPmz-",
        "outputId": "d789a693-67db-4ed4-d1a2-192309d60b3d"
      },
      "outputs": [
        {
          "output_type": "stream",
          "name": "stdout",
          "text": [
            "Requirement already satisfied: nltk in /usr/local/lib/python3.12/dist-packages (3.9.1)\n",
            "Requirement already satisfied: click in /usr/local/lib/python3.12/dist-packages (from nltk) (8.2.1)\n",
            "Requirement already satisfied: joblib in /usr/local/lib/python3.12/dist-packages (from nltk) (1.5.1)\n",
            "Requirement already satisfied: regex>=2021.8.3 in /usr/local/lib/python3.12/dist-packages (from nltk) (2024.11.6)\n",
            "Requirement already satisfied: tqdm in /usr/local/lib/python3.12/dist-packages (from nltk) (4.67.1)\n"
          ]
        }
      ],
      "source": [
        "!pip install nltk"
      ]
    },
    {
      "cell_type": "code",
      "source": [
        "import torch\n",
        "import torch.nn as nn\n",
        "import torch.optim as optim\n",
        "from collections import Counter\n",
        "import numpy as np\n",
        "from torch.utils.data import Dataset\n",
        "from torch.utils.data import DataLoader\n",
        "import nltk\n",
        "from nltk.tokenize import word_tokenize"
      ],
      "metadata": {
        "id": "RmmPRN5rSOAc"
      },
      "execution_count": 2,
      "outputs": []
    },
    {
      "cell_type": "code",
      "source": [
        "nltk.download('punkt')\n",
        "nltk.download('punkt_tab')"
      ],
      "metadata": {
        "colab": {
          "base_uri": "https://localhost:8080/"
        },
        "id": "SVC1okLyUFpK",
        "outputId": "3e0db3ba-7475-48e3-f37f-ca3a03b6e09a"
      },
      "execution_count": 3,
      "outputs": [
        {
          "output_type": "stream",
          "name": "stderr",
          "text": [
            "[nltk_data] Downloading package punkt to /root/nltk_data...\n",
            "[nltk_data]   Unzipping tokenizers/punkt.zip.\n",
            "[nltk_data] Downloading package punkt_tab to /root/nltk_data...\n",
            "[nltk_data]   Unzipping tokenizers/punkt_tab.zip.\n"
          ]
        },
        {
          "output_type": "execute_result",
          "data": {
            "text/plain": [
              "True"
            ]
          },
          "metadata": {},
          "execution_count": 3
        }
      ]
    },
    {
      "cell_type": "code",
      "source": [
        "document = \"\"\"\n",
        "Osamu Dazai is one of the central figures in Bungou Stray Dogs and also one of the most enigmatic.\n",
        "His story spans two very different lives: one as a cold, brilliant executive in the Port Mafia, and another as an eccentric yet cunning member of the Armed Detective Agency.\n",
        "Dazai’s life is a constant dance between darkness and light, despair and hope, death and survival.\n",
        "His journey explores questions of morality, purpose, and human connection.\n",
        "\n",
        "Early Life and Port Mafia Years\n",
        "Dazai joined the Port Mafia at an unusually young age.\n",
        "Though much of his early life remains shrouded in mystery, it is clear that he carried an overwhelming sense of emptiness and nihilism from a very young age.\n",
        "He displayed suicidal tendencies, often attempting elaborate ways to end his life, but somehow always surviving or losing interest at the last moment.\n",
        "Ōgai Mori, the ruthless but intelligent boss of the Port Mafia, recognized Dazai’s genius and emotional detachment, seeing in him a potential heir.\n",
        "Under Mori’s guidance, Dazai rose quickly through the ranks, eventually becoming one of the youngest executives in the mafia’s history.\n",
        "\n",
        "During these years, Dazai formed a partnership with Chūya Nakahara.\n",
        "Together, they became known as \"Twin Dark,\" a legendary duo feared across the underworld.\n",
        "Their personalities clashed constantly: Chūya was hot-headed, passionate, and honorable in his own way, while Dazai was calculating, manipulative, and infuriatingly carefree.\n",
        "Despite their arguments and sarcastic exchanges, their combined strength made them nearly unstoppable.\n",
        "One of their most notable missions involved the Arahabaki incident, which tied into Chūya’s mysterious powers and tested their uneasy partnership.\n",
        "\n",
        "But Dazai’s mafia life was not without meaningful connections.\n",
        "His most significant bond was with Sakunosuke Oda, known as Odasaku.\n",
        "Odasaku was different from the rest of the Port Mafia.\n",
        "He despised unnecessary killing and dreamed of retiring to live quietly as a novelist.\n",
        "Dazai, who had always seen life as meaningless, was drawn to Odasaku’s humanity and ideals.\n",
        "Odasaku’s philosophy—that life should be used to protect and save others rather than destroy—deeply influenced Dazai.\n",
        "This bond ended tragically when Odasaku was killed during a violent conflict with another organization.\n",
        "In his final moments, he urged Dazai to leave the mafia and dedicate himself to saving people.\n",
        "This moment became the turning point of Dazai’s life, leading him away from the mafia’s bloodshed.\n",
        "\n",
        "Joining the Armed Detective Agency\n",
        "After leaving the Port Mafia, Dazai wandered until he crossed paths with Yukichi Fukuzawa, the leader of the Armed Detective Agency.\n",
        "Impressed by Dazai’s potential, Fukuzawa welcomed him into the organization.\n",
        "The ADA’s mission—to use supernatural abilities to protect the people of Yokohama—aligned with Odasaku’s dying wish, giving Dazai a new reason to live, or at least to keep moving forward.\n",
        "\n",
        "At the ADA, Dazai’s personality revealed itself in unusual ways.\n",
        "On the surface, he seemed like a clown: constantly making jokes about suicide, flirting with death, or appearing lazy and unmotivated.\n",
        "But beneath that façade lay one of the sharpest minds in the series.\n",
        "Dazai became a master strategist, often solving cases not through brute force, but through careful planning, manipulation, and psychological insight.\n",
        "His ability, \"No Longer Human,\" allows him to nullify any other ability upon touch, making him invaluable in battles against ability users.\n",
        "\n",
        "Dazai also took on a mentorship role, most notably with Atsushi Nakajima.\n",
        "Atsushi, an orphan who transforms into a white tiger, initially struggled with self-worth and fear of rejection.\n",
        "Dazai, in his teasing yet oddly supportive way, guided Atsushi to see his own value and gain confidence.\n",
        "Their relationship mirrors the one Dazai once shared with Odasaku, suggesting that Dazai saw in Atsushi someone who could be saved from despair the way he himself could not.\n",
        "\n",
        "Major Conflicts and Arcs\n",
        "As a member of the ADA, Dazai was constantly drawn back into conflict with his former life.\n",
        "His knowledge of the Port Mafia’s inner workings gave the ADA an edge in many confrontations, but it also created tension with old acquaintances who questioned his loyalty.\n",
        "\n",
        "The Guild Arc:\n",
        "When the American organization known as the Guild, led by Francis Scott Key Fitzgerald, invaded Yokohama, Dazai played a critical role in countering them.\n",
        "He anticipated moves, manipulated outcomes, and turned desperate situations into victories for the ADA.\n",
        "While others fought physically, Dazai engaged in a battle of wits and strategy, proving that his mind was his greatest weapon.\n",
        "\n",
        "The Cannibalism Arc:\n",
        "Later, a crisis orchestrated by the mysterious Fyodor Dostoevsky forced the Port Mafia and the ADA into an uneasy truce.\n",
        "The \"Cannibalism\" plan set the two organizations against one another in a deadly trap.\n",
        "Dazai, with his uncanny ability to read people, steered the situation carefully, ensuring that the ADA survived and minimizing unnecessary bloodshed.\n",
        "\n",
        "Dazai vs. Fyodor Dostoevsky:\n",
        "Fyodor Dostoevsky, a chillingly intelligent man determined to eradicate all ability users, became Dazai’s greatest rival.\n",
        "Unlike other opponents, Fyodor matched Dazai in cunning and strategy.\n",
        "Their clashes became battles of intellect and ideology rather than simple physical fights.\n",
        "Where Dazai manipulates for survival and protection, Fyodor manipulates for destruction.\n",
        "The rivalry between these two is central to the later arcs of the story.\n",
        "\n",
        "Decay of the Angel Arc:\n",
        "Dazai’s most dangerous trial came when he was imprisoned alongside Fyodor in Meursault, a supposedly inescapable prison.\n",
        "Even here, Dazai maintained control over the situation, setting in motion intricate schemes to ensure his allies’ survival.\n",
        "While trapped in this deadly chess game with Fyodor, Dazai showcased his brilliance as a strategist, demonstrating that his true battlefield is the mind.\n",
        "\n",
        "Themes and Character Psychology\n",
        "At the heart of Dazai’s story lies a constant struggle between death and life.\n",
        "His endless suicide jokes are not simply humor but reflect his ongoing battle with despair.\n",
        "He seeks death but simultaneously finds reasons to live, usually through his connections with others.\n",
        "\n",
        "His contradictions make him fascinating:\n",
        "- A joker, yet deeply depressed.\n",
        "- A killer, yet now a savior.\n",
        "- A manipulator, yet one who desires genuine connection.\n",
        "\n",
        "His relationships define him:\n",
        "- Odasaku gave him purpose and direction.\n",
        "- Chūya remains both rival and comrade, a reminder of his mafia past.\n",
        "- Atsushi represents hope for the future and redemption.\n",
        "- Fyodor is his intellectual equal, forcing Dazai to confront his own darkness.\n",
        "\n",
        "Conclusion\n",
        "Osamu Dazai’s story in Bungou Stray Dogs is not just about a man switching sides from villain to hero.\n",
        "It is about a person who has stared into the void of meaninglessness and continues to struggle with it daily.\n",
        "His past in the Port Mafia, his mentorship in the ADA, his rivalries, and his complex psychology all contribute to making him one of the most compelling characters in the series.\n",
        "Through Dazai, Bungou Stray Dogs explores profound questions: Can someone truly change?\n",
        "Is redemption possible?\n",
        "What gives life meaning in the face of despair?\n",
        "\n",
        "Above all, Dazai embodies transformation.\n",
        "From the feared executive who bathed in blood, to the detective who saves lives in his own twisted way, his story remains one of survival, irony, and the search for a reason to keep living.\n",
        "\"\"\"\n"
      ],
      "metadata": {
        "id": "TdIFnnOvSwBm"
      },
      "execution_count": 4,
      "outputs": []
    },
    {
      "cell_type": "code",
      "source": [
        "tokens=word_tokenize(document.lower())"
      ],
      "metadata": {
        "id": "jTm0C1u4T8NR"
      },
      "execution_count": 5,
      "outputs": []
    },
    {
      "cell_type": "code",
      "source": [
        "vocab={'UNV':0}\n",
        "for token in tokens:\n",
        "  if token in vocab:\n",
        "    continue\n",
        "  vocab[token]=len(vocab)\n"
      ],
      "metadata": {
        "id": "TTx7AaWIVIm4"
      },
      "execution_count": 6,
      "outputs": []
    },
    {
      "cell_type": "code",
      "source": [
        "sentences=document.split('\\n')"
      ],
      "metadata": {
        "id": "fz8ZupSoVhrl"
      },
      "execution_count": 7,
      "outputs": []
    },
    {
      "cell_type": "code",
      "source": [
        "def text_to_indices(text,vocab):\n",
        "  indices=[]\n",
        "  for token in word_tokenize(text):\n",
        "    if token not in vocab:\n",
        "      token='UNV'\n",
        "    indices.append(vocab[token])\n",
        "  return indices"
      ],
      "metadata": {
        "id": "QYoGKXxIVlDH"
      },
      "execution_count": 8,
      "outputs": []
    },
    {
      "cell_type": "code",
      "source": [
        "all_tokens=[]\n",
        "for sentence in sentences:\n",
        "  all_tokens.append(text_to_indices(sentence.lower(),vocab))"
      ],
      "metadata": {
        "id": "QGs-4O7IX_bX"
      },
      "execution_count": 9,
      "outputs": []
    },
    {
      "cell_type": "code",
      "source": [
        "all_tokens[1]"
      ],
      "metadata": {
        "colab": {
          "base_uri": "https://localhost:8080/"
        },
        "id": "lZuUH75QYeCG",
        "outputId": "ca6722a8-be16-4bc3-a4fb-4ce39ca3630b"
      },
      "execution_count": 10,
      "outputs": [
        {
          "output_type": "execute_result",
          "data": {
            "text/plain": [
              "[1, 2, 3, 4, 5, 6, 7, 8, 9, 10, 11, 12, 13, 14, 4, 5, 6, 15, 16, 17]"
            ]
          },
          "metadata": {},
          "execution_count": 10
        }
      ]
    },
    {
      "cell_type": "code",
      "source": [
        "len(all_tokens)"
      ],
      "metadata": {
        "colab": {
          "base_uri": "https://localhost:8080/"
        },
        "id": "DWt2PxDDYiOy",
        "outputId": "effd4f33-89bc-48cf-9545-48dfa52b938a"
      },
      "execution_count": 11,
      "outputs": [
        {
          "output_type": "execute_result",
          "data": {
            "text/plain": [
              "98"
            ]
          },
          "metadata": {},
          "execution_count": 11
        }
      ]
    },
    {
      "cell_type": "code",
      "source": [
        "train_tokens=[]\n",
        "for senten in all_tokens:\n",
        "  for i in range(1,len(senten)):\n",
        "    train_tokens.append(senten[:i+1])"
      ],
      "metadata": {
        "id": "czJLQE2VZR6A"
      },
      "execution_count": 12,
      "outputs": []
    },
    {
      "cell_type": "code",
      "source": [
        "len(train_tokens)"
      ],
      "metadata": {
        "colab": {
          "base_uri": "https://localhost:8080/"
        },
        "id": "CEtQeAHQaP78",
        "outputId": "dd7bfc59-5dc0-49ac-dab4-b3f0c72a68e0"
      },
      "execution_count": 13,
      "outputs": [
        {
          "output_type": "execute_result",
          "data": {
            "text/plain": [
              "1305"
            ]
          },
          "metadata": {},
          "execution_count": 13
        }
      ]
    },
    {
      "cell_type": "code",
      "source": [
        "len_list=[]\n",
        "for senten in all_tokens:\n",
        "  len_list.append(len(senten))"
      ],
      "metadata": {
        "id": "2UHz_lO8aRwZ"
      },
      "execution_count": 14,
      "outputs": []
    },
    {
      "cell_type": "code",
      "source": [
        "final_tokens=[]\n",
        "for senten in train_tokens:\n",
        "  final_tokens.append([0]*(max(len_list)-len(senten)) + senten)"
      ],
      "metadata": {
        "id": "AbhUnPsFcHHP"
      },
      "execution_count": 15,
      "outputs": []
    },
    {
      "cell_type": "code",
      "source": [
        "len(final_tokens[1000])"
      ],
      "metadata": {
        "colab": {
          "base_uri": "https://localhost:8080/"
        },
        "id": "Skic4ymncryZ",
        "outputId": "d80c11a0-e196-4bfb-a93e-24ec5b9beab8"
      },
      "execution_count": 16,
      "outputs": [
        {
          "output_type": "execute_result",
          "data": {
            "text/plain": [
              "40"
            ]
          },
          "metadata": {},
          "execution_count": 16
        }
      ]
    },
    {
      "cell_type": "code",
      "source": [
        "final_tokens=torch.tensor(final_tokens,dtype=torch.long)"
      ],
      "metadata": {
        "id": "Yg_I53gocvV4"
      },
      "execution_count": 17,
      "outputs": []
    },
    {
      "cell_type": "code",
      "source": [
        "final_tokens.shape"
      ],
      "metadata": {
        "colab": {
          "base_uri": "https://localhost:8080/"
        },
        "id": "Xf6V_r4rdNac",
        "outputId": "5848fd78-0a40-4b6a-8bda-6149b88c25ff"
      },
      "execution_count": 18,
      "outputs": [
        {
          "output_type": "execute_result",
          "data": {
            "text/plain": [
              "torch.Size([1305, 40])"
            ]
          },
          "metadata": {},
          "execution_count": 18
        }
      ]
    },
    {
      "cell_type": "code",
      "source": [
        "x=final_tokens[:,:-1]\n",
        "y=final_tokens[:,-1]"
      ],
      "metadata": {
        "id": "FGKRsr6SdUOV"
      },
      "execution_count": 19,
      "outputs": []
    },
    {
      "cell_type": "code",
      "source": [
        "class Data(Dataset):\n",
        "  def __init__(self,x,y):\n",
        "    self.x=x\n",
        "    self.y=y\n",
        "  def __len__(self):\n",
        "    return len(self.x)\n",
        "  def __getitem__(self,index):\n",
        "    return self.x[index],self.y[index]"
      ],
      "metadata": {
        "id": "CBkwxcu9eSlB"
      },
      "execution_count": 20,
      "outputs": []
    },
    {
      "cell_type": "code",
      "source": [
        "data=Data(x,y)"
      ],
      "metadata": {
        "id": "qDzJSiZ6rc09"
      },
      "execution_count": 21,
      "outputs": []
    },
    {
      "cell_type": "code",
      "source": [
        "loader=DataLoader(data,batch_size=32,shuffle=True)"
      ],
      "metadata": {
        "id": "HtVs-kjIrhgP"
      },
      "execution_count": 22,
      "outputs": []
    },
    {
      "cell_type": "code",
      "source": [
        "class Model(nn.Module):\n",
        "  def __init__(self,vocab_size):\n",
        "    super().__init__()\n",
        "    self.embedding=nn.Embedding(vocab_size,100)\n",
        "    self.lstm=nn.LSTM(100,150,batch_first=True)\n",
        "    self.output=nn.Linear(150,vocab_size)\n",
        "  def forward(self,x):\n",
        "    x=self.embedding(x)\n",
        "    x=self.lstm(x)[1][0]\n",
        "    return self.output(x.squeeze(0))\n"
      ],
      "metadata": {
        "id": "VDY4at-asa_z"
      },
      "execution_count": 23,
      "outputs": []
    },
    {
      "cell_type": "code",
      "source": [
        "model=Model(len(vocab))"
      ],
      "metadata": {
        "id": "go3vIjAH6rV1"
      },
      "execution_count": 24,
      "outputs": []
    },
    {
      "cell_type": "code",
      "source": [
        "criterion=nn.CrossEntropyLoss()\n",
        "optimizer=optim.Adam(model.parameters(),lr=1)"
      ],
      "metadata": {
        "id": "G4Bz3Hy86wjl"
      },
      "execution_count": 70,
      "outputs": []
    },
    {
      "cell_type": "code",
      "source": [
        "device=torch.device('cuda' if torch.cuda.is_available() else 'cpu' )\n",
        "model.to(device)"
      ],
      "metadata": {
        "colab": {
          "base_uri": "https://localhost:8080/"
        },
        "id": "IC6hjcdr8Bi2",
        "outputId": "532da3aa-2adf-493a-9a21-2803c957d36d"
      },
      "execution_count": 71,
      "outputs": [
        {
          "output_type": "execute_result",
          "data": {
            "text/plain": [
              "Model(\n",
              "  (embedding): Embedding(551, 100)\n",
              "  (lstm): LSTM(100, 150, batch_first=True)\n",
              "  (output): Linear(in_features=150, out_features=551, bias=True)\n",
              ")"
            ]
          },
          "metadata": {},
          "execution_count": 71
        }
      ]
    },
    {
      "cell_type": "code",
      "source": [
        "epochs=50"
      ],
      "metadata": {
        "id": "O9iKj0Eo8nUu"
      },
      "execution_count": 72,
      "outputs": []
    },
    {
      "cell_type": "code",
      "source": [
        "for epoch in range(epochs):\n",
        "  epoch_loss=0\n",
        "  for x,y in loader:\n",
        "    x,y=x.to(device),y.to(device)\n",
        "    y_pred=model(x)\n",
        "    loss=criterion(y_pred,y)\n",
        "    epoch_loss+=loss.item()*x.shape[0]\n",
        "    loss.backward()\n",
        "    optimizer.zero_grad()\n",
        "    optimizer.step()\n",
        "  epoch_loss/=1305\n",
        "  print(f'Epoch {epoch},loss: {epoch_loss}')\n"
      ],
      "metadata": {
        "colab": {
          "base_uri": "https://localhost:8080/"
        },
        "id": "XmiGE_NV9A0V",
        "outputId": "a3c76372-6daa-4c5c-bf89-9146e79847ed"
      },
      "execution_count": 73,
      "outputs": [
        {
          "output_type": "stream",
          "name": "stdout",
          "text": [
            "Epoch 0,loss: 6.317539269531367\n",
            "Epoch 1,loss: 6.3175393210517035\n",
            "Epoch 2,loss: 6.317539302416688\n",
            "Epoch 3,loss: 6.317539279031571\n",
            "Epoch 4,loss: 6.317539316666994\n",
            "Epoch 5,loss: 6.317539281589318\n",
            "Epoch 6,loss: 6.317539324705628\n",
            "Epoch 7,loss: 6.317539308262967\n",
            "Epoch 8,loss: 6.317539307532183\n",
            "Epoch 9,loss: 6.317539313743854\n",
            "Epoch 10,loss: 6.317539270627544\n",
            "Epoch 11,loss: 6.317539298031979\n",
            "Epoch 12,loss: 6.317539254915669\n",
            "Epoch 13,loss: 6.31753936818733\n",
            "Epoch 14,loss: 6.317539239203793\n",
            "Epoch 15,loss: 6.317539320320918\n",
            "Epoch 16,loss: 6.3175392680697975\n",
            "Epoch 17,loss: 6.317539317032386\n",
            "Epoch 18,loss: 6.317539344071428\n",
            "Epoch 19,loss: 6.3175392947434466\n",
            "Epoch 20,loss: 6.317539284512458\n",
            "Epoch 21,loss: 6.317539279396963\n",
            "Epoch 22,loss: 6.31753928487785\n",
            "Epoch 23,loss: 6.317539329090337\n",
            "Epoch 24,loss: 6.317539304974435\n",
            "Epoch 25,loss: 6.317539285974028\n",
            "Epoch 26,loss: 6.317539284147065\n",
            "Epoch 27,loss: 6.317539319955526\n",
            "Epoch 28,loss: 6.317539331648085\n",
            "Epoch 29,loss: 6.317539319590134\n",
            "Epoch 30,loss: 6.317539269896759\n",
            "Epoch 31,loss: 6.317539308262967\n",
            "Epoch 32,loss: 6.317539305339828\n",
            "Epoch 33,loss: 6.317539255281061\n",
            "Epoch 34,loss: 6.317539337859757\n",
            "Epoch 35,loss: 6.317539318859349\n",
            "Epoch 36,loss: 6.31753928195471\n",
            "Epoch 37,loss: 6.3175393064360055\n",
            "Epoch 38,loss: 6.317539355398595\n",
            "Epoch 39,loss: 6.3175392947434466\n",
            "Epoch 40,loss: 6.317539266242835\n",
            "Epoch 41,loss: 6.317539277935394\n",
            "Epoch 42,loss: 6.317539262223518\n",
            "Epoch 43,loss: 6.3175393685527235\n",
            "Epoch 44,loss: 6.317539284147065\n",
            "Epoch 45,loss: 6.317539354302418\n",
            "Epoch 46,loss: 6.317539343340644\n",
            "Epoch 47,loss: 6.317539320686311\n",
            "Epoch 48,loss: 6.317539307532183\n",
            "Epoch 49,loss: 6.317539321417096\n"
          ]
        }
      ]
    },
    {
      "cell_type": "code",
      "source": [
        "def predict(text,model,vocab):\n",
        "  tokens=text_to_indices(text.lower(),vocab)\n",
        "  tokens=[0]*(max(len_list)-len(tokens))+ tokens\n",
        "  tokens=torch.tensor(tokens).unsqueeze(0).to(device)\n",
        "  y=model(tokens)\n",
        "  y=torch.nn.functional.softmax(y,dim=-1)\n",
        "  got_class=torch.argmax(y,dim=-1)\n",
        "  for k,v in vocab.items():\n",
        "    if v==got_class:\n",
        "      print('Model: ',k)\n",
        "      break"
      ],
      "metadata": {
        "id": "h5hxA_73_tuk"
      },
      "execution_count": 74,
      "outputs": []
    },
    {
      "cell_type": "code",
      "source": [
        "text=input('You: ')\n",
        "predict(text,model,vocab)"
      ],
      "metadata": {
        "colab": {
          "base_uri": "https://localhost:8080/"
        },
        "id": "jsQThKT1DFjD",
        "outputId": "c60cff4b-ec10-4e61-c7fe-86f9bccb5965"
      },
      "execution_count": 75,
      "outputs": [
        {
          "output_type": "stream",
          "name": "stdout",
          "text": [
            "You: Port\n",
            "Model:  represents\n"
          ]
        }
      ]
    },
    {
      "cell_type": "code",
      "source": [],
      "metadata": {
        "id": "sFMQUWvLDQXG"
      },
      "execution_count": null,
      "outputs": []
    }
  ]
}
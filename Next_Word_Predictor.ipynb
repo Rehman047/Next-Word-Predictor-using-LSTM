{
  "nbformat": 4,
  "nbformat_minor": 0,
  "metadata": {
    "colab": {
      "provenance": [],
      "authorship_tag": "ABX9TyMIL58VlOLxZ02QvOocd/eT",
      "include_colab_link": true
    },
    "kernelspec": {
      "name": "python3",
      "display_name": "Python 3"
    },
    "language_info": {
      "name": "python"
    }
  },
  "cells": [
    {
      "cell_type": "markdown",
      "metadata": {
        "id": "view-in-github",
        "colab_type": "text"
      },
      "source": [
        "<a href=\"https://colab.research.google.com/github/Rehman047/Next-Word-Predictor-using-LSTM/blob/main/Next_Word_Predictor.ipynb\" target=\"_parent\"><img src=\"https://colab.research.google.com/assets/colab-badge.svg\" alt=\"Open In Colab\"/></a>"
      ]
    },
    {
      "cell_type": "code",
      "execution_count": 1,
      "metadata": {
        "colab": {
          "base_uri": "https://localhost:8080/"
        },
        "id": "l6gzpFQDPmz-",
        "outputId": "69efc3df-9e92-4ae3-cbb0-5764db1c4a31"
      },
      "outputs": [
        {
          "output_type": "stream",
          "name": "stdout",
          "text": [
            "Requirement already satisfied: nltk in /usr/local/lib/python3.12/dist-packages (3.9.1)\n",
            "Requirement already satisfied: click in /usr/local/lib/python3.12/dist-packages (from nltk) (8.2.1)\n",
            "Requirement already satisfied: joblib in /usr/local/lib/python3.12/dist-packages (from nltk) (1.5.1)\n",
            "Requirement already satisfied: regex>=2021.8.3 in /usr/local/lib/python3.12/dist-packages (from nltk) (2024.11.6)\n",
            "Requirement already satisfied: tqdm in /usr/local/lib/python3.12/dist-packages (from nltk) (4.67.1)\n"
          ]
        }
      ],
      "source": [
        "!pip install nltk"
      ]
    },
    {
      "cell_type": "code",
      "source": [
        "import torch\n",
        "import torch.nn as nn\n",
        "import torch.optim as optim\n",
        "from collections import Counter\n",
        "import numpy as np\n",
        "from torch.utils.data import Dataset\n",
        "from torch.utils.data import DataLoader\n",
        "import nltk\n",
        "from nltk.tokenize import word_tokenize"
      ],
      "metadata": {
        "id": "RmmPRN5rSOAc"
      },
      "execution_count": 5,
      "outputs": []
    },
    {
      "cell_type": "code",
      "source": [
        "nltk.download('punkt')\n",
        "nltk.download('punkt_tab')"
      ],
      "metadata": {
        "id": "SVC1okLyUFpK",
        "outputId": "3ff9ea17-2b53-4d97-fe9d-578e32467f7b",
        "colab": {
          "base_uri": "https://localhost:8080/"
        }
      },
      "execution_count": 7,
      "outputs": [
        {
          "output_type": "stream",
          "name": "stderr",
          "text": [
            "[nltk_data] Downloading package punkt to /root/nltk_data...\n",
            "[nltk_data]   Unzipping tokenizers/punkt.zip.\n",
            "[nltk_data] Downloading package punkt_tab to /root/nltk_data...\n",
            "[nltk_data]   Unzipping tokenizers/punkt_tab.zip.\n"
          ]
        },
        {
          "output_type": "execute_result",
          "data": {
            "text/plain": [
              "True"
            ]
          },
          "metadata": {},
          "execution_count": 7
        }
      ]
    },
    {
      "cell_type": "code",
      "source": [
        "document = \"\"\"\n",
        "Osamu Dazai is one of the central figures in Bungou Stray Dogs and also one of the most enigmatic.\n",
        "His story spans two very different lives: one as a cold, brilliant executive in the Port Mafia, and another as an eccentric yet cunning member of the Armed Detective Agency.\n",
        "Dazai’s life is a constant dance between darkness and light, despair and hope, death and survival.\n",
        "His journey explores questions of morality, purpose, and human connection.\n",
        "\n",
        "Early Life and Port Mafia Years\n",
        "Dazai joined the Port Mafia at an unusually young age.\n",
        "Though much of his early life remains shrouded in mystery, it is clear that he carried an overwhelming sense of emptiness and nihilism from a very young age.\n",
        "He displayed suicidal tendencies, often attempting elaborate ways to end his life, but somehow always surviving or losing interest at the last moment.\n",
        "Ōgai Mori, the ruthless but intelligent boss of the Port Mafia, recognized Dazai’s genius and emotional detachment, seeing in him a potential heir.\n",
        "Under Mori’s guidance, Dazai rose quickly through the ranks, eventually becoming one of the youngest executives in the mafia’s history.\n",
        "\n",
        "During these years, Dazai formed a partnership with Chūya Nakahara.\n",
        "Together, they became known as \"Twin Dark,\" a legendary duo feared across the underworld.\n",
        "Their personalities clashed constantly: Chūya was hot-headed, passionate, and honorable in his own way, while Dazai was calculating, manipulative, and infuriatingly carefree.\n",
        "Despite their arguments and sarcastic exchanges, their combined strength made them nearly unstoppable.\n",
        "One of their most notable missions involved the Arahabaki incident, which tied into Chūya’s mysterious powers and tested their uneasy partnership.\n",
        "\n",
        "But Dazai’s mafia life was not without meaningful connections.\n",
        "His most significant bond was with Sakunosuke Oda, known as Odasaku.\n",
        "Odasaku was different from the rest of the Port Mafia.\n",
        "He despised unnecessary killing and dreamed of retiring to live quietly as a novelist.\n",
        "Dazai, who had always seen life as meaningless, was drawn to Odasaku’s humanity and ideals.\n",
        "Odasaku’s philosophy—that life should be used to protect and save others rather than destroy—deeply influenced Dazai.\n",
        "This bond ended tragically when Odasaku was killed during a violent conflict with another organization.\n",
        "In his final moments, he urged Dazai to leave the mafia and dedicate himself to saving people.\n",
        "This moment became the turning point of Dazai’s life, leading him away from the mafia’s bloodshed.\n",
        "\n",
        "Joining the Armed Detective Agency\n",
        "After leaving the Port Mafia, Dazai wandered until he crossed paths with Yukichi Fukuzawa, the leader of the Armed Detective Agency.\n",
        "Impressed by Dazai’s potential, Fukuzawa welcomed him into the organization.\n",
        "The ADA’s mission—to use supernatural abilities to protect the people of Yokohama—aligned with Odasaku’s dying wish, giving Dazai a new reason to live, or at least to keep moving forward.\n",
        "\n",
        "At the ADA, Dazai’s personality revealed itself in unusual ways.\n",
        "On the surface, he seemed like a clown: constantly making jokes about suicide, flirting with death, or appearing lazy and unmotivated.\n",
        "But beneath that façade lay one of the sharpest minds in the series.\n",
        "Dazai became a master strategist, often solving cases not through brute force, but through careful planning, manipulation, and psychological insight.\n",
        "His ability, \"No Longer Human,\" allows him to nullify any other ability upon touch, making him invaluable in battles against ability users.\n",
        "\n",
        "Dazai also took on a mentorship role, most notably with Atsushi Nakajima.\n",
        "Atsushi, an orphan who transforms into a white tiger, initially struggled with self-worth and fear of rejection.\n",
        "Dazai, in his teasing yet oddly supportive way, guided Atsushi to see his own value and gain confidence.\n",
        "Their relationship mirrors the one Dazai once shared with Odasaku, suggesting that Dazai saw in Atsushi someone who could be saved from despair the way he himself could not.\n",
        "\n",
        "Major Conflicts and Arcs\n",
        "As a member of the ADA, Dazai was constantly drawn back into conflict with his former life.\n",
        "His knowledge of the Port Mafia’s inner workings gave the ADA an edge in many confrontations, but it also created tension with old acquaintances who questioned his loyalty.\n",
        "\n",
        "The Guild Arc:\n",
        "When the American organization known as the Guild, led by Francis Scott Key Fitzgerald, invaded Yokohama, Dazai played a critical role in countering them.\n",
        "He anticipated moves, manipulated outcomes, and turned desperate situations into victories for the ADA.\n",
        "While others fought physically, Dazai engaged in a battle of wits and strategy, proving that his mind was his greatest weapon.\n",
        "\n",
        "The Cannibalism Arc:\n",
        "Later, a crisis orchestrated by the mysterious Fyodor Dostoevsky forced the Port Mafia and the ADA into an uneasy truce.\n",
        "The \"Cannibalism\" plan set the two organizations against one another in a deadly trap.\n",
        "Dazai, with his uncanny ability to read people, steered the situation carefully, ensuring that the ADA survived and minimizing unnecessary bloodshed.\n",
        "\n",
        "Dazai vs. Fyodor Dostoevsky:\n",
        "Fyodor Dostoevsky, a chillingly intelligent man determined to eradicate all ability users, became Dazai’s greatest rival.\n",
        "Unlike other opponents, Fyodor matched Dazai in cunning and strategy.\n",
        "Their clashes became battles of intellect and ideology rather than simple physical fights.\n",
        "Where Dazai manipulates for survival and protection, Fyodor manipulates for destruction.\n",
        "The rivalry between these two is central to the later arcs of the story.\n",
        "\n",
        "Decay of the Angel Arc:\n",
        "Dazai’s most dangerous trial came when he was imprisoned alongside Fyodor in Meursault, a supposedly inescapable prison.\n",
        "Even here, Dazai maintained control over the situation, setting in motion intricate schemes to ensure his allies’ survival.\n",
        "While trapped in this deadly chess game with Fyodor, Dazai showcased his brilliance as a strategist, demonstrating that his true battlefield is the mind.\n",
        "\n",
        "Themes and Character Psychology\n",
        "At the heart of Dazai’s story lies a constant struggle between death and life.\n",
        "His endless suicide jokes are not simply humor but reflect his ongoing battle with despair.\n",
        "He seeks death but simultaneously finds reasons to live, usually through his connections with others.\n",
        "\n",
        "His contradictions make him fascinating:\n",
        "- A joker, yet deeply depressed.\n",
        "- A killer, yet now a savior.\n",
        "- A manipulator, yet one who desires genuine connection.\n",
        "\n",
        "His relationships define him:\n",
        "- Odasaku gave him purpose and direction.\n",
        "- Chūya remains both rival and comrade, a reminder of his mafia past.\n",
        "- Atsushi represents hope for the future and redemption.\n",
        "- Fyodor is his intellectual equal, forcing Dazai to confront his own darkness.\n",
        "\n",
        "Conclusion\n",
        "Osamu Dazai’s story in Bungou Stray Dogs is not just about a man switching sides from villain to hero.\n",
        "It is about a person who has stared into the void of meaninglessness and continues to struggle with it daily.\n",
        "His past in the Port Mafia, his mentorship in the ADA, his rivalries, and his complex psychology all contribute to making him one of the most compelling characters in the series.\n",
        "Through Dazai, Bungou Stray Dogs explores profound questions: Can someone truly change?\n",
        "Is redemption possible?\n",
        "What gives life meaning in the face of despair?\n",
        "\n",
        "Above all, Dazai embodies transformation.\n",
        "From the feared executive who bathed in blood, to the detective who saves lives in his own twisted way, his story remains one of survival, irony, and the search for a reason to keep living.\n",
        "\"\"\"\n"
      ],
      "metadata": {
        "id": "TdIFnnOvSwBm"
      },
      "execution_count": 15,
      "outputs": []
    },
    {
      "cell_type": "code",
      "source": [
        "tokens=word_tokenize(document.lower())"
      ],
      "metadata": {
        "id": "jTm0C1u4T8NR"
      },
      "execution_count": 16,
      "outputs": []
    },
    {
      "cell_type": "code",
      "source": [
        "vocab={'UNV':0}\n",
        "for token in tokens:\n",
        "  if token in vocab:\n",
        "    continue\n",
        "  vocab[token]=len(vocab)\n"
      ],
      "metadata": {
        "id": "TTx7AaWIVIm4"
      },
      "execution_count": 17,
      "outputs": []
    },
    {
      "cell_type": "code",
      "source": [
        "sentences=document.split('\\n')"
      ],
      "metadata": {
        "id": "fz8ZupSoVhrl"
      },
      "execution_count": 18,
      "outputs": []
    },
    {
      "cell_type": "code",
      "source": [
        "def text_to_indices(text,vocab):\n",
        "  indices=[]\n",
        "  for token in word_tokenize(text):\n",
        "    if token not in vocab:\n",
        "      token='UNV'\n",
        "    indices.append(vocab[token])\n",
        "  return indices"
      ],
      "metadata": {
        "id": "QYoGKXxIVlDH"
      },
      "execution_count": 20,
      "outputs": []
    },
    {
      "cell_type": "code",
      "source": [
        "all_tokens=[]\n",
        "for sentence in sentences:\n",
        "  all_tokens.append(text_to_indices(sentence.lower(),vocab))"
      ],
      "metadata": {
        "id": "QGs-4O7IX_bX"
      },
      "execution_count": 21,
      "outputs": []
    },
    {
      "cell_type": "code",
      "source": [],
      "metadata": {
        "id": "lZuUH75QYeCG",
        "outputId": "825d4e2d-2c37-49b7-d5d3-adc7b5abbcbd",
        "colab": {
          "base_uri": "https://localhost:8080/"
        }
      },
      "execution_count": 24,
      "outputs": [
        {
          "output_type": "execute_result",
          "data": {
            "text/plain": [
              "[]"
            ]
          },
          "metadata": {},
          "execution_count": 24
        }
      ]
    },
    {
      "cell_type": "code",
      "source": [],
      "metadata": {
        "id": "DWt2PxDDYiOy"
      },
      "execution_count": null,
      "outputs": []
    }
  ]
}